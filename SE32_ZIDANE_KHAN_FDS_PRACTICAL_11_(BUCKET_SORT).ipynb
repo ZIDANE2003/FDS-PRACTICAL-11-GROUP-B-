{
  "nbformat": 4,
  "nbformat_minor": 0,
  "metadata": {
    "colab": {
      "name": "SE32 ZIDANE KHAN  FDS PRACTICAL 11  (BUCKET SORT)",
      "provenance": [],
      "collapsed_sections": [],
      "include_colab_link": true
    },
    "kernelspec": {
      "display_name": "Python 3",
      "name": "python3"
    }
  },
  "cells": [
    {
      "cell_type": "markdown",
      "metadata": {
        "id": "view-in-github",
        "colab_type": "text"
      },
      "source": [
        "<a href=\"https://colab.research.google.com/github/ZIDANE2003/FDS-PRACTICAL-11-GROUP-B-/blob/main/SE32_ZIDANE_KHAN_FDS_PRACTICAL_11_(BUCKET_SORT).ipynb\" target=\"_parent\"><img src=\"https://colab.research.google.com/assets/colab-badge.svg\" alt=\"Open In Colab\"/></a>"
      ]
    },
    {
      "cell_type": "code",
      "metadata": {
        "id": "MpwlqvwH6mIG",
        "colab": {
          "base_uri": "https://localhost:8080/"
        },
        "outputId": "ef7c4fc7-22a0-4eae-91ae-1494ffcb5a47"
      },
      "source": [
        "stud=[]\n",
        "n=int(input(\"Enter no of students in class:\")) \n",
        "for i in range(n):\n",
        "  num=float(input(\"Enter percentage of students:\"))\n",
        "  stud.append(num)\n",
        "print(\"List of percentage of Students:\",stud,end=\" \")\n",
        "def RadixSort(stud):\n",
        "  MaxElement = max(stud)\n",
        "  place = 1\n",
        "  while MaxElement//place > 0:\n",
        "    countingSort(stud,place)\n",
        "    place = place * 10\n",
        "def countingSort(stud,place):\n",
        "  n = len(stud)\n",
        "  result = [0]*n\n",
        "  count = [0] *10\n",
        "  i = 0\n",
        "  for i in range(n):\n",
        "    index = int(stud[i]) // place\n",
        "    count[index % 10] += 1\n",
        "  for i in range(1, 10):\n",
        "    count[i] = count[i]+count[i - 1]\n",
        "  i = n - 1\n",
        "  while i >= 0:\n",
        "    index = int(stud[i]) // place\n",
        "    result[count[index % 10] - 1] = stud[i]\n",
        "    count[index % 10] -= 1\n",
        "    i = i-1\n",
        "  for i in range(0, n):\n",
        "    stud[i] = result[i]\n",
        "RadixSort(stud)\n",
        "print(\"\\n TOP FIVE SCORES ARE\")\n",
        "print(stud)    \n"
      ],
      "execution_count": null,
      "outputs": [
        {
          "output_type": "stream",
          "name": "stdout",
          "text": [
            "Enter no of students in class:5\n",
            "Enter percentage of students:82\n",
            "Enter percentage of students:91.2\n",
            "Enter percentage of students:67.5\n",
            "Enter percentage of students:75.5\n",
            "Enter percentage of students:82.3\n",
            "List of percentage of Students: [82.0, 91.2, 67.5, 75.5, 82.3] \n",
            " TOP FIVE SCORES ARE\n",
            "[67.5, 75.5, 82.0, 82.3, 91.2]\n"
          ]
        }
      ]
    }
  ]
}